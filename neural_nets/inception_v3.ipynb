{
 "cells": [
  {
   "cell_type": "code",
   "execution_count": 1,
   "metadata": {},
   "outputs": [],
   "source": [
    "import tensorflow as tf\n",
    "from tensorflow.keras.applications.inception_v3 import InceptionV3\n",
    "from tensorflow.keras.models import Model\n",
    "from tensorflow.keras.layers import Input, GlobalAveragePooling2D, Dropout, Dense, Flatten"
   ]
  },
  {
   "cell_type": "code",
   "execution_count": 2,
   "metadata": {},
   "outputs": [],
   "source": [
    "### Define the inception model ###\n",
    "\n",
    "'''Function to define a inception model'''\n",
    "def build_model(input_size,nb_classes):\n",
    "    global base_model \n",
    "    base_model = InceptionV3(input_shape = input_size,\n",
    "                         input_tensor = Input(input_size),\n",
    "                         include_top = False,\n",
    "                         weights = 'imagenet')\n",
    "    base_model.trainable = False\n",
    "    inputs = Input(shape = input_size)\n",
    "    x = base_model(inputs, training = False)\n",
    "    #x = Dense(1024, activation = 'relu')(x)\n",
    "    #x = GlobalAveragePooling2D()(x)\n",
    "    x = Flatten()(x)\n",
    "    x = Dropout(0.2)(x)\n",
    "    outputs = Dense(nb_classes, activation = 'softmax')(x)\n",
    "    return Model(inputs,outputs)"
   ]
  },
  {
   "cell_type": "code",
   "execution_count": 3,
   "metadata": {},
   "outputs": [
    {
     "name": "stdout",
     "output_type": "stream",
     "text": [
      "Model: \"model\"\n",
      "_________________________________________________________________\n",
      "Layer (type)                 Output Shape              Param #   \n",
      "=================================================================\n",
      "input_2 (InputLayer)         [(None, 256, 256, 3)]     0         \n",
      "_________________________________________________________________\n",
      "inception_v3 (Functional)    (None, 6, 6, 2048)        21802784  \n",
      "_________________________________________________________________\n",
      "flatten (Flatten)            (None, 73728)             0         \n",
      "_________________________________________________________________\n",
      "dropout (Dropout)            (None, 73728)             0         \n",
      "_________________________________________________________________\n",
      "dense (Dense)                (None, 2)                 147458    \n",
      "=================================================================\n",
      "Total params: 21,950,242\n",
      "Trainable params: 147,458\n",
      "Non-trainable params: 21,802,784\n",
      "_________________________________________________________________\n"
     ]
    }
   ],
   "source": [
    "### Run only as a Parent File ###\n",
    "if __name__ == '__main__' and '__file__' not in globals():\n",
    "    \n",
    "    nb_classes = 2 #change output size\n",
    "    IMG_SHAPE = (256, 256, 3) #change input shape\n",
    "    model = build_model(IMG_SHAPE,nb_classes)\n",
    "    model.summary()"
   ]
  },
  {
   "cell_type": "code",
   "execution_count": null,
   "metadata": {},
   "outputs": [],
   "source": []
  },
  {
   "cell_type": "code",
   "execution_count": null,
   "metadata": {},
   "outputs": [],
   "source": []
  }
 ],
 "metadata": {
  "kernelspec": {
   "display_name": "Python 3.8 (tensorflow)",
   "language": "python",
   "name": "tensorflow"
  },
  "language_info": {
   "codemirror_mode": {
    "name": "ipython",
    "version": 3
   },
   "file_extension": ".py",
   "mimetype": "text/x-python",
   "name": "python",
   "nbconvert_exporter": "python",
   "pygments_lexer": "ipython3",
   "version": "3.8.5"
  }
 },
 "nbformat": 4,
 "nbformat_minor": 4
}
