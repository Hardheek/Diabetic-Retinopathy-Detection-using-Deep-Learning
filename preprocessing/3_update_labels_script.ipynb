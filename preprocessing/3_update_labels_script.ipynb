{
 "cells": [
  {
   "cell_type": "code",
   "execution_count": 4,
   "metadata": {},
   "outputs": [],
   "source": [
    "import os\n",
    "import pandas as pd"
   ]
  },
  {
   "cell_type": "code",
   "execution_count": 5,
   "metadata": {},
   "outputs": [],
   "source": [
    "def get_lst_images(file_path):\n",
    "    \"\"\"\n",
    "    Reads in all files from file path into a list.\n",
    "    INPUT\n",
    "        file_path: specified file path containing the images.\n",
    "    OUTPUT\n",
    "        List of image strings\n",
    "    \"\"\"\n",
    "    return [i for i in os.listdir(file_path) if i != '.DS_Store']"
   ]
  },
  {
   "cell_type": "code",
   "execution_count": 17,
   "metadata": {},
   "outputs": [
    {
     "name": "stdout",
     "output_type": "stream",
     "text": [
      "(107440, 3)\n",
      "Writing CSV\n"
     ]
    }
   ],
   "source": [
    "if __name__ == '__main__':\n",
    "    trainLabels = pd.read_csv(\"./trainLabels_original.csv\")\n",
    "\n",
    "    lst_imgs = get_lst_images('./resized_train_cropped/train-resized-256/')\n",
    "    \n",
    "    trainLabels['image'] = trainLabels.loc[:, 'image'].apply(\n",
    "        lambda x: x + '.jpeg')\n",
    "    \n",
    "    \n",
    "    new_trainLabels = pd.DataFrame({'image': lst_imgs})\n",
    "    new_trainLabels['image2'] = new_trainLabels.image\n",
    "\n",
    "    # Remove the suffix from the image names.\n",
    "    new_trainLabels['image2'] = new_trainLabels.loc[:, 'image2'].apply(lambda x: '_'.join(x.split('_')[0:2]).strip('.jpeg') + '.jpeg')\n",
    "    \n",
    "    new_trainLabels.columns = ['train_image_name', 'image']\n",
    "\n",
    "    trainLabels = pd.merge(trainLabels, new_trainLabels, how='outer', on='image')\n",
    "    trainLabels = trainLabels.dropna()\n",
    "    print(trainLabels.shape)\n",
    "\n",
    "    print(\"Writing CSV\")\n",
    "    trainLabels.to_csv('./trainLabels_augmented.csv', index=False, header=True)\n"
   ]
  },
  {
   "cell_type": "code",
   "execution_count": 4,
   "metadata": {},
   "outputs": [],
   "source": []
  },
  {
   "cell_type": "code",
   "execution_count": null,
   "metadata": {},
   "outputs": [],
   "source": []
  }
 ],
 "metadata": {
  "kernelspec": {
   "display_name": "Python 3.8 (tensorflow)",
   "language": "python",
   "name": "tensorflow"
  },
  "language_info": {
   "codemirror_mode": {
    "name": "ipython",
    "version": 3
   },
   "file_extension": ".py",
   "mimetype": "text/x-python",
   "name": "python",
   "nbconvert_exporter": "python",
   "pygments_lexer": "ipython3",
   "version": "3.8.5"
  }
 },
 "nbformat": 4,
 "nbformat_minor": 4
}
