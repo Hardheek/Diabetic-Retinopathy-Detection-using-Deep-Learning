{
 "cells": [
  {
   "cell_type": "code",
   "execution_count": 1,
   "metadata": {},
   "outputs": [],
   "source": [
    "import pandas as pd\n",
    "import numpy as np\n",
    "from skimage import io,img_as_ubyte\n",
    "from skimage.transform import rotate\n",
    "import cv2\n",
    "import os\n",
    "import time"
   ]
  },
  {
   "cell_type": "code",
   "execution_count": 2,
   "metadata": {},
   "outputs": [],
   "source": [
    "def rotate_images(file_path, degrees_of_rotation, lst_imgs):\n",
    "    '''\n",
    "    Rotates image based on a specified amount of degrees\n",
    "    INPUT\n",
    "        file_path: file path to the folder containing images.\n",
    "        degrees_of_rotation: Integer, specifying degrees to rotate the\n",
    "        image. Set number from 1 to 360.\n",
    "        lst_imgs: list of image strings.\n",
    "    OUTPUT\n",
    "        Images rotated by the degrees of rotation specififed.\n",
    "    '''\n",
    "\n",
    "    for l in lst_imgs:\n",
    "        img = io.imread(file_path + str(l) + '.jpeg')\n",
    "        img = rotate(img, degrees_of_rotation)\n",
    "        io.imsave(file_path + str(l) + '_' + str(degrees_of_rotation) + '.jpeg',  img_as_ubyte(img))"
   ]
  },
  {
   "cell_type": "code",
   "execution_count": 3,
   "metadata": {},
   "outputs": [],
   "source": [
    "def mirror_images(file_path, mirror_direction, lst_imgs):\n",
    "    '''\n",
    "    Mirrors image left or right, based on criteria specified.\n",
    "    INPUT\n",
    "        file_path: file path to the folder containing images.\n",
    "        mirror_direction: criteria for mirroring left or right.\n",
    "        lst_imgs: list of image strings.\n",
    "    OUTPUT\n",
    "        Images mirrored left or right.\n",
    "    '''\n",
    "\n",
    "    for l in lst_imgs:\n",
    "        img = cv2.imread(file_path + str(l) + '.jpeg')\n",
    "        img = cv2.flip(img, 1)\n",
    "        cv2.imwrite(file_path + str(l) + '_mir' + '.jpeg',  img_as_ubyte(img))"
   ]
  },
  {
   "cell_type": "code",
   "execution_count": 6,
   "metadata": {},
   "outputs": [
    {
     "name": "stdout",
     "output_type": "stream",
     "text": [
      "Mirroring Non-DR Images\n",
      "Rotating 90 Degrees\n"
     ]
    },
    {
     "name": "stderr",
     "output_type": "stream",
     "text": [
      "<ipython-input-2-595e2f2e809f>:16: UserWarning: ./resized_train_cropped/train-resized-256/11648_left_90.jpeg is a low contrast image\n",
      "  io.imsave(file_path + str(l) + '_' + str(degrees_of_rotation) + '.jpeg',  img_as_ubyte(img))\n",
      "<ipython-input-2-595e2f2e809f>:16: UserWarning: ./resized_train_cropped/train-resized-256/12329_right_90.jpeg is a low contrast image\n",
      "  io.imsave(file_path + str(l) + '_' + str(degrees_of_rotation) + '.jpeg',  img_as_ubyte(img))\n",
      "<ipython-input-2-595e2f2e809f>:16: UserWarning: ./resized_train_cropped/train-resized-256/14915_right_90.jpeg is a low contrast image\n",
      "  io.imsave(file_path + str(l) + '_' + str(degrees_of_rotation) + '.jpeg',  img_as_ubyte(img))\n",
      "<ipython-input-2-595e2f2e809f>:16: UserWarning: ./resized_train_cropped/train-resized-256/15038_right_90.jpeg is a low contrast image\n",
      "  io.imsave(file_path + str(l) + '_' + str(degrees_of_rotation) + '.jpeg',  img_as_ubyte(img))\n",
      "<ipython-input-2-595e2f2e809f>:16: UserWarning: ./resized_train_cropped/train-resized-256/15302_left_90.jpeg is a low contrast image\n",
      "  io.imsave(file_path + str(l) + '_' + str(degrees_of_rotation) + '.jpeg',  img_as_ubyte(img))\n",
      "<ipython-input-2-595e2f2e809f>:16: UserWarning: ./resized_train_cropped/train-resized-256/20824_right_90.jpeg is a low contrast image\n",
      "  io.imsave(file_path + str(l) + '_' + str(degrees_of_rotation) + '.jpeg',  img_as_ubyte(img))\n",
      "<ipython-input-2-595e2f2e809f>:16: UserWarning: ./resized_train_cropped/train-resized-256/25385_left_90.jpeg is a low contrast image\n",
      "  io.imsave(file_path + str(l) + '_' + str(degrees_of_rotation) + '.jpeg',  img_as_ubyte(img))\n",
      "<ipython-input-2-595e2f2e809f>:16: UserWarning: ./resized_train_cropped/train-resized-256/42832_left_90.jpeg is a low contrast image\n",
      "  io.imsave(file_path + str(l) + '_' + str(degrees_of_rotation) + '.jpeg',  img_as_ubyte(img))\n",
      "<ipython-input-2-595e2f2e809f>:16: UserWarning: ./resized_train_cropped/train-resized-256/43921_left_90.jpeg is a low contrast image\n",
      "  io.imsave(file_path + str(l) + '_' + str(degrees_of_rotation) + '.jpeg',  img_as_ubyte(img))\n"
     ]
    },
    {
     "name": "stdout",
     "output_type": "stream",
     "text": [
      "Rotating 120 Degrees\n"
     ]
    },
    {
     "name": "stderr",
     "output_type": "stream",
     "text": [
      "<ipython-input-2-595e2f2e809f>:16: UserWarning: ./resized_train_cropped/train-resized-256/11648_left_120.jpeg is a low contrast image\n",
      "  io.imsave(file_path + str(l) + '_' + str(degrees_of_rotation) + '.jpeg',  img_as_ubyte(img))\n",
      "<ipython-input-2-595e2f2e809f>:16: UserWarning: ./resized_train_cropped/train-resized-256/12329_right_120.jpeg is a low contrast image\n",
      "  io.imsave(file_path + str(l) + '_' + str(degrees_of_rotation) + '.jpeg',  img_as_ubyte(img))\n",
      "<ipython-input-2-595e2f2e809f>:16: UserWarning: ./resized_train_cropped/train-resized-256/13627_left_120.jpeg is a low contrast image\n",
      "  io.imsave(file_path + str(l) + '_' + str(degrees_of_rotation) + '.jpeg',  img_as_ubyte(img))\n",
      "<ipython-input-2-595e2f2e809f>:16: UserWarning: ./resized_train_cropped/train-resized-256/14915_right_120.jpeg is a low contrast image\n",
      "  io.imsave(file_path + str(l) + '_' + str(degrees_of_rotation) + '.jpeg',  img_as_ubyte(img))\n",
      "<ipython-input-2-595e2f2e809f>:16: UserWarning: ./resized_train_cropped/train-resized-256/15038_right_120.jpeg is a low contrast image\n",
      "  io.imsave(file_path + str(l) + '_' + str(degrees_of_rotation) + '.jpeg',  img_as_ubyte(img))\n",
      "<ipython-input-2-595e2f2e809f>:16: UserWarning: ./resized_train_cropped/train-resized-256/15302_left_120.jpeg is a low contrast image\n",
      "  io.imsave(file_path + str(l) + '_' + str(degrees_of_rotation) + '.jpeg',  img_as_ubyte(img))\n",
      "<ipython-input-2-595e2f2e809f>:16: UserWarning: ./resized_train_cropped/train-resized-256/20824_right_120.jpeg is a low contrast image\n",
      "  io.imsave(file_path + str(l) + '_' + str(degrees_of_rotation) + '.jpeg',  img_as_ubyte(img))\n",
      "<ipython-input-2-595e2f2e809f>:16: UserWarning: ./resized_train_cropped/train-resized-256/25385_left_120.jpeg is a low contrast image\n",
      "  io.imsave(file_path + str(l) + '_' + str(degrees_of_rotation) + '.jpeg',  img_as_ubyte(img))\n",
      "<ipython-input-2-595e2f2e809f>:16: UserWarning: ./resized_train_cropped/train-resized-256/42832_left_120.jpeg is a low contrast image\n",
      "  io.imsave(file_path + str(l) + '_' + str(degrees_of_rotation) + '.jpeg',  img_as_ubyte(img))\n",
      "<ipython-input-2-595e2f2e809f>:16: UserWarning: ./resized_train_cropped/train-resized-256/43921_left_120.jpeg is a low contrast image\n",
      "  io.imsave(file_path + str(l) + '_' + str(degrees_of_rotation) + '.jpeg',  img_as_ubyte(img))\n"
     ]
    },
    {
     "name": "stdout",
     "output_type": "stream",
     "text": [
      "Rotating 180 Degrees\n"
     ]
    },
    {
     "name": "stderr",
     "output_type": "stream",
     "text": [
      "<ipython-input-2-595e2f2e809f>:16: UserWarning: ./resized_train_cropped/train-resized-256/11648_left_180.jpeg is a low contrast image\n",
      "  io.imsave(file_path + str(l) + '_' + str(degrees_of_rotation) + '.jpeg',  img_as_ubyte(img))\n",
      "<ipython-input-2-595e2f2e809f>:16: UserWarning: ./resized_train_cropped/train-resized-256/12329_right_180.jpeg is a low contrast image\n",
      "  io.imsave(file_path + str(l) + '_' + str(degrees_of_rotation) + '.jpeg',  img_as_ubyte(img))\n",
      "<ipython-input-2-595e2f2e809f>:16: UserWarning: ./resized_train_cropped/train-resized-256/14915_right_180.jpeg is a low contrast image\n",
      "  io.imsave(file_path + str(l) + '_' + str(degrees_of_rotation) + '.jpeg',  img_as_ubyte(img))\n",
      "<ipython-input-2-595e2f2e809f>:16: UserWarning: ./resized_train_cropped/train-resized-256/15038_right_180.jpeg is a low contrast image\n",
      "  io.imsave(file_path + str(l) + '_' + str(degrees_of_rotation) + '.jpeg',  img_as_ubyte(img))\n",
      "<ipython-input-2-595e2f2e809f>:16: UserWarning: ./resized_train_cropped/train-resized-256/15302_left_180.jpeg is a low contrast image\n",
      "  io.imsave(file_path + str(l) + '_' + str(degrees_of_rotation) + '.jpeg',  img_as_ubyte(img))\n",
      "<ipython-input-2-595e2f2e809f>:16: UserWarning: ./resized_train_cropped/train-resized-256/20824_right_180.jpeg is a low contrast image\n",
      "  io.imsave(file_path + str(l) + '_' + str(degrees_of_rotation) + '.jpeg',  img_as_ubyte(img))\n",
      "<ipython-input-2-595e2f2e809f>:16: UserWarning: ./resized_train_cropped/train-resized-256/25385_left_180.jpeg is a low contrast image\n",
      "  io.imsave(file_path + str(l) + '_' + str(degrees_of_rotation) + '.jpeg',  img_as_ubyte(img))\n",
      "<ipython-input-2-595e2f2e809f>:16: UserWarning: ./resized_train_cropped/train-resized-256/42832_left_180.jpeg is a low contrast image\n",
      "  io.imsave(file_path + str(l) + '_' + str(degrees_of_rotation) + '.jpeg',  img_as_ubyte(img))\n",
      "<ipython-input-2-595e2f2e809f>:16: UserWarning: ./resized_train_cropped/train-resized-256/43921_left_180.jpeg is a low contrast image\n",
      "  io.imsave(file_path + str(l) + '_' + str(degrees_of_rotation) + '.jpeg',  img_as_ubyte(img))\n"
     ]
    },
    {
     "name": "stdout",
     "output_type": "stream",
     "text": [
      "Rotating 270 Degrees\n"
     ]
    },
    {
     "name": "stderr",
     "output_type": "stream",
     "text": [
      "<ipython-input-2-595e2f2e809f>:16: UserWarning: ./resized_train_cropped/train-resized-256/11648_left_270.jpeg is a low contrast image\n",
      "  io.imsave(file_path + str(l) + '_' + str(degrees_of_rotation) + '.jpeg',  img_as_ubyte(img))\n",
      "<ipython-input-2-595e2f2e809f>:16: UserWarning: ./resized_train_cropped/train-resized-256/12329_right_270.jpeg is a low contrast image\n",
      "  io.imsave(file_path + str(l) + '_' + str(degrees_of_rotation) + '.jpeg',  img_as_ubyte(img))\n",
      "<ipython-input-2-595e2f2e809f>:16: UserWarning: ./resized_train_cropped/train-resized-256/14915_right_270.jpeg is a low contrast image\n",
      "  io.imsave(file_path + str(l) + '_' + str(degrees_of_rotation) + '.jpeg',  img_as_ubyte(img))\n",
      "<ipython-input-2-595e2f2e809f>:16: UserWarning: ./resized_train_cropped/train-resized-256/15038_right_270.jpeg is a low contrast image\n",
      "  io.imsave(file_path + str(l) + '_' + str(degrees_of_rotation) + '.jpeg',  img_as_ubyte(img))\n",
      "<ipython-input-2-595e2f2e809f>:16: UserWarning: ./resized_train_cropped/train-resized-256/15302_left_270.jpeg is a low contrast image\n",
      "  io.imsave(file_path + str(l) + '_' + str(degrees_of_rotation) + '.jpeg',  img_as_ubyte(img))\n",
      "<ipython-input-2-595e2f2e809f>:16: UserWarning: ./resized_train_cropped/train-resized-256/20824_right_270.jpeg is a low contrast image\n",
      "  io.imsave(file_path + str(l) + '_' + str(degrees_of_rotation) + '.jpeg',  img_as_ubyte(img))\n",
      "<ipython-input-2-595e2f2e809f>:16: UserWarning: ./resized_train_cropped/train-resized-256/25385_left_270.jpeg is a low contrast image\n",
      "  io.imsave(file_path + str(l) + '_' + str(degrees_of_rotation) + '.jpeg',  img_as_ubyte(img))\n",
      "<ipython-input-2-595e2f2e809f>:16: UserWarning: ./resized_train_cropped/train-resized-256/42832_left_270.jpeg is a low contrast image\n",
      "  io.imsave(file_path + str(l) + '_' + str(degrees_of_rotation) + '.jpeg',  img_as_ubyte(img))\n",
      "<ipython-input-2-595e2f2e809f>:16: UserWarning: ./resized_train_cropped/train-resized-256/43921_left_270.jpeg is a low contrast image\n",
      "  io.imsave(file_path + str(l) + '_' + str(degrees_of_rotation) + '.jpeg',  img_as_ubyte(img))\n"
     ]
    },
    {
     "name": "stdout",
     "output_type": "stream",
     "text": [
      "Mirroring DR Images\n",
      "Completed\n",
      "--- 734.7800538539886 seconds ---\n"
     ]
    }
   ],
   "source": [
    "if __name__ == '__main__':\n",
    "    start_time = time.time()\n",
    "    trainLabels = pd.read_csv(\"./trainLabels_original.csv\")\n",
    "\n",
    "    trainLabels['image'] = trainLabels['image'].str.rstrip('.jpeg')\n",
    "    trainLabels_no_DR = trainLabels[trainLabels['level'] == 0]\n",
    "    trainLabels_DR = trainLabels[trainLabels['level'] >= 1]\n",
    "\n",
    "    lst_imgs_no_DR = [i for i in trainLabels_no_DR['image']]\n",
    "    lst_imgs_DR = [i for i in trainLabels_DR['image']]\n",
    "\n",
    "    # Mirror Images with no DR one time\n",
    "    print(\"Mirroring Non-DR Images\")\n",
    "    mirror_images('./resized_train_cropped/train-resized-256/', 1, lst_imgs_no_DR)\n",
    "\n",
    "\n",
    "    # Rotate all images that have any level of DR\n",
    "    print(\"Rotating 90 Degrees\")\n",
    "    rotate_images('./resized_train_cropped/train-resized-256/', 90, lst_imgs_DR)\n",
    "\n",
    "    print(\"Rotating 120 Degrees\")\n",
    "    rotate_images('./resized_train_cropped/train-resized-256/', 120, lst_imgs_DR)\n",
    "\n",
    "    print(\"Rotating 180 Degrees\")\n",
    "    rotate_images('./resized_train_cropped/train-resized-256/', 180, lst_imgs_DR)\n",
    "\n",
    "    print(\"Rotating 270 Degrees\")\n",
    "    rotate_images('./resized_train_cropped/train-resized-256/', 270, lst_imgs_DR)\n",
    "\n",
    "    print(\"Mirroring DR Images\")\n",
    "    mirror_images('./resized_train_cropped/train-resized-256/', 0, lst_imgs_DR)\n",
    "\n",
    "    print(\"Completed\")\n",
    "    print(\"--- %s seconds ---\" % (time.time() - start_time))"
   ]
  },
  {
   "cell_type": "code",
   "execution_count": null,
   "metadata": {},
   "outputs": [],
   "source": []
  }
 ],
 "metadata": {
  "kernelspec": {
   "display_name": "Python 3.8 (tensorflow)",
   "language": "python",
   "name": "tensorflow"
  },
  "language_info": {
   "codemirror_mode": {
    "name": "ipython",
    "version": 3
   },
   "file_extension": ".py",
   "mimetype": "text/x-python",
   "name": "python",
   "nbconvert_exporter": "python",
   "pygments_lexer": "ipython3",
   "version": "3.8.5"
  }
 },
 "nbformat": 4,
 "nbformat_minor": 5
}
